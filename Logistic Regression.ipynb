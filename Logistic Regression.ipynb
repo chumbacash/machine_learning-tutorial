{
 "cells": [
  {
   "cell_type": "markdown",
   "id": "297e5c53-618f-485f-80ef-7d665549f0a0",
   "metadata": {},
   "source": [
    "Logistic regression aims to solve classification problems. It does this by predicting categorical outcomes, unlike linear regression that predicts a continuous outcome."
   ]
  },
  {
   "cell_type": "code",
   "execution_count": null,
   "id": "b7e11ac9-540a-4eb6-9f58-28666ca789aa",
   "metadata": {},
   "outputs": [],
   "source": [
    "importing "
   ]
  }
 ],
 "metadata": {
  "kernelspec": {
   "display_name": "Python 3 (ipykernel)",
   "language": "python",
   "name": "python3"
  },
  "language_info": {
   "codemirror_mode": {
    "name": "ipython",
    "version": 3
   },
   "file_extension": ".py",
   "mimetype": "text/x-python",
   "name": "python",
   "nbconvert_exporter": "python",
   "pygments_lexer": "ipython3",
   "version": "3.12.0"
  }
 },
 "nbformat": 4,
 "nbformat_minor": 5
}
