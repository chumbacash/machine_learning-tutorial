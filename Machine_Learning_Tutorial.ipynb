{
  "nbformat": 4,
  "nbformat_minor": 0,
  "metadata": {
    "colab": {
      "provenance": []
    },
    "kernelspec": {
      "name": "python3",
      "display_name": "Python 3"
    },
    "language_info": {
      "name": "python"
    }
  },
  "cells": [
    {
      "cell_type": "markdown",
      "source": [
        "**MACHINE LEARNING **\n",
        "\n",
        "-Machine Learning is making the computer learn from studying data and statistics.\n",
        "\n",
        "-Machine Learning is a step into the direction of artificial intelligence (AI).\n",
        "\n",
        "-Machine Learning is a program that analyses data and learns to predict the outcome."
      ],
      "metadata": {
        "id": "gGkV3RJyyVji"
      }
    },
    {
      "cell_type": "code",
      "execution_count": null,
      "metadata": {
        "id": "RHvXKZm_yC6-"
      },
      "outputs": [],
      "source": [
        "#Data Types\n",
        "'''\n",
        "We can split data into theree main categories:\n",
        "- Numerical, data are numbers\n",
        "- Categorical, data are values\n",
        "- Ordinal, data is like categorical but can be measured with each other\n",
        "'''\n",
        "\n"
      ]
    },
    {
      "cell_type": "code",
      "source": [
        "#MEAN, MEDIAN AND MODE\n",
        "\n",
        "#Mean  - avarage value\n",
        "\n",
        "import numpy as np\n",
        "\n",
        "speed = [99,86,87,88,111,86,103,87,94,78,77,85,86]\n",
        "\n",
        "x = np.mean(speed)\n",
        "\n",
        "print(x)\n",
        "\n",
        "#Median -Middle value after arranged in acending order\n",
        "\n",
        "#Using the speed dataset\n",
        "\n",
        "speed = [99,86,87,88,111,86,103,87,94,78,77,85,86]\n",
        "\n",
        "x = np.median(speed)\n",
        "\n",
        "print(x)\n",
        "\n",
        "#Mode - The most appearing value\n",
        "\n",
        "speed = [99,86,87,88,111,86,103,87,94,78,77,85,86]\n",
        "\n",
        "from scipy import stats\n",
        "\n",
        "x = stats.mode(speed)\n",
        "\n",
        "print(x)"
      ],
      "metadata": {
        "colab": {
          "base_uri": "https://localhost:8080/"
        },
        "id": "szRrXZvazywp",
        "outputId": "9ed474cb-dc43-43bb-b5b2-57cb7bd28733"
      },
      "execution_count": null,
      "outputs": [
        {
          "output_type": "stream",
          "name": "stdout",
          "text": [
            "89.76923076923077\n",
            "87.0\n",
            "ModeResult(mode=86, count=3)\n"
          ]
        }
      ]
    },
    {
      "cell_type": "code",
      "source": [
        "#Standard Deviation"
      ],
      "metadata": {
        "id": "KlYUC_hN3-UB"
      },
      "execution_count": null,
      "outputs": []
    }
  ]
}